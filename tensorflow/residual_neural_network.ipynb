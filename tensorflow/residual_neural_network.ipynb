{
 "cells": [
  {
   "cell_type": "markdown",
   "metadata": {},
   "source": [
    "### Residual Neural Network"
   ]
  },
  {
   "cell_type": "code",
   "execution_count": 4,
   "metadata": {},
   "outputs": [],
   "source": [
    "import tensorflow as tf\n",
    "import numpy as np"
   ]
  },
  {
   "cell_type": "markdown",
   "metadata": {},
   "source": [
    "##### Hyper parameters"
   ]
  },
  {
   "cell_type": "code",
   "execution_count": 5,
   "metadata": {},
   "outputs": [],
   "source": [
    "EPOCHS = 10"
   ]
  },
  {
   "cell_type": "markdown",
   "metadata": {},
   "source": [
    "##### Resisual Unit"
   ]
  },
  {
   "cell_type": "code",
   "execution_count": 20,
   "metadata": {},
   "outputs": [],
   "source": [
    "class ResidualUnit(tf.keras.Model):\n",
    "    def __init__(self, filter_in, filter_out, kernel_size):\n",
    "        super(ResidualUnit, self).__init__()\n",
    "        self.bn1 = tf.keras.layers.BatchNormalization()\n",
    "        self.conv1 = tf.keras.layers.Conv2D(filter_out, kernel_size, padding='same')\n",
    "        \n",
    "        self.bn2 = tf.keras.layers.BatchNormalization()\n",
    "        self.conv2 = tf.keras.layers.Conv2D(filter_out, kernel_size, padding='same')\n",
    "        \n",
    "        # identity를 정함\n",
    "        if filter_in == filter_out :\n",
    "            self.identity = lambda x: x\n",
    "        else :\n",
    "            self.identity = tf.keras.layers.Conv2D(filter_out, (1,1), padding='same')\n",
    "    \n",
    "    def __call__(self, x, training=False, mask=None):\n",
    "        h = self.bn1(x, training=training) # batch norm은 training 시와 test시 달라져야 한다.\n",
    "        h = tf.nn.relu(h)\n",
    "        h = self.conv1(h)\n",
    "        \n",
    "        h = self.bn2(h, training=training)\n",
    "        h = tf.nn.relu(h)\n",
    "        h = self.conv2(h)\n",
    "        return self.identity(x) + h"
   ]
  },
  {
   "cell_type": "markdown",
   "metadata": {},
   "source": [
    "#### Residual Layer 구현"
   ]
  },
  {
   "cell_type": "code",
   "execution_count": 21,
   "metadata": {},
   "outputs": [],
   "source": [
    "class ResnetLayer(tf.keras.Model):\n",
    "    def __init__(self, filter_in, filters, kernel_size):\n",
    "        super(ResnetLayer, self).__init__()\n",
    "        self.sequence = list()\n",
    "        for f_in, f_out in zip([filter_in] + list(filters), filters):\n",
    "            # [16] + [32, 32, 32]\n",
    "            # zip([16, 32, 32, 32], [32, 32, 32])\n",
    "            self.sequence.append(ResidualUnit(f_in, f_out, kernel_size))\n",
    "    def call(self, x, training=False, mask=None):\n",
    "        for unit in self.sequence:\n",
    "            x = unit(x, training=training)\n",
    "        return x\n",
    "        "
   ]
  },
  {
   "cell_type": "markdown",
   "metadata": {},
   "source": [
    "#####  모델 정의"
   ]
  },
  {
   "cell_type": "code",
   "execution_count": 22,
   "metadata": {},
   "outputs": [],
   "source": [
    "class ResNet(tf.keras.Model):\n",
    "    def __init__(self):\n",
    "        super(ResNet, self).__init__()\n",
    "        # 처음에 feature를 한번 뽑아줘야 함.\n",
    "        self.conv1 = tf.keras.layers.Conv2D(8,(3,3), padding='same', activation='relu' ) # 28x28x8\n",
    "        \n",
    "        self.res1 = ResnetLayer(8, (16,16), (3,3)) # 28x28x16\n",
    "        self.pool1 = tf.keras.layers.MaxPool2D((2,2)) # 14x14x16\n",
    "        \n",
    "        self.res2 = ResnetLayer(16, (32,32), (3,3)) # 14x14x32\n",
    "        self.pool2 = tf.keras.layers.MaxPool2D((2,2)) # 7x7x32\n",
    "        \n",
    "        self.res3 = ResnetLayer(32, (64,64), (3,3)) # 7x7x64\n",
    "        self.flatten = tf.keras.layers.Flatten()\n",
    "        self.dense1 = tf.keras.layers.Dense(128, activation='relu')\n",
    "        self.dense2 = tf.keras.layers.Dense(10, activation='softmax')\n",
    "        \n",
    "    def call(self, x, training=False, mask=None):\n",
    "        x = self.conv1(x)\n",
    "        \n",
    "        x = self.res1(x, training=training)\n",
    "        x = self.pool1(x)\n",
    "        x = self.res2(x, training=training)\n",
    "        x = self.pool2(x)\n",
    "        x = self.res3(x, training=training)\n",
    "        \n",
    "        x = self.flatten(x)\n",
    "        x = self.dense1(x)\n",
    "        return self.dense2(x)"
   ]
  },
  {
   "cell_type": "markdown",
   "metadata": {},
   "source": [
    "### 학습, 테스트 루프 정의"
   ]
  },
  {
   "cell_type": "code",
   "execution_count": 23,
   "metadata": {},
   "outputs": [],
   "source": [
    "@tf.function\n",
    "def train_step(model, images, labels, loss_object, optimizer, train_loss, train_accuracy):\n",
    "    with tf.GradientTape() as tape:\n",
    "        predictions = model(images, training=True)\n",
    "        loss = loss_object(labels, predictions)\n",
    "    gradients = tape.gradient(loss, model.trainable_variables)\n",
    "    \n",
    "    optimizer.apply_gradients(zip(gradients, model.trainable_variables))\n",
    "    train_loss(loss)\n",
    "    train_accuracy(labels, predictions)\n",
    "\n",
    "@tf.function\n",
    "def test_step(model, images, labels, loss_object, test_loss, test_accuracy):\n",
    "    predictions = model(images)\n",
    "    \n",
    "    t_loss = loss_object(labels, predictions)\n",
    "    test_loss(t_loss)\n",
    "    test_accuracy(labels, predictions)"
   ]
  },
  {
   "cell_type": "markdown",
   "metadata": {},
   "source": [
    "#### 데이터 셋 준비"
   ]
  },
  {
   "cell_type": "code",
   "execution_count": 24,
   "metadata": {},
   "outputs": [],
   "source": [
    "mnist = tf.keras.datasets.mnist\n",
    "\n",
    "(x_train, y_train), (x_test, y_test) = mnist.load_data()\n",
    "x_train, x_test = x_train/255.0, x_test/255.0\n",
    "\n",
    "x_train = x_train[..., tf.newaxis].astype(np.float32)\n",
    "x_test = x_test[..., tf.newaxis].astype(np.float32)\n",
    "\n",
    "train_ds = tf.data.Dataset.from_tensor_slices((x_train,y_train)).shuffle(10000).batch(32)\n",
    "test_ds = tf.data.Dataset.from_tensor_slices((x_test, y_test)).batch(32)"
   ]
  },
  {
   "cell_type": "markdown",
   "metadata": {},
   "source": [
    "### 모델 생성"
   ]
  },
  {
   "cell_type": "code",
   "execution_count": 25,
   "metadata": {},
   "outputs": [],
   "source": [
    "# Create model\n",
    "model = ResNet()\n",
    "\n",
    "# Define loss and optimizer\n",
    "loss_object = tf.keras.losses.SparseCategoricalCrossentropy()\n",
    "optimizer = tf.keras.optimizers.Adam()\n",
    "\n",
    "# Define performance metrics\n",
    "train_loss = tf.keras.metrics.Mean(name='train_loss')\n",
    "train_accuracy = tf.keras.metrics.SparseCategoricalAccuracy(name='train_accuracy')\n",
    "\n",
    "test_loss = tf.keras.metrics.Mean(name='test_loss')\n",
    "test_accuracy = tf.keras.metrics.SparseCategoricalAccuracy(name='test_accuracy')"
   ]
  },
  {
   "cell_type": "markdown",
   "metadata": {},
   "source": [
    "##### 학습 루프 동작"
   ]
  },
  {
   "cell_type": "code",
   "execution_count": 28,
   "metadata": {},
   "outputs": [
    {
     "name": "stdout",
     "output_type": "stream",
     "text": [
      "Epoch 1, Loss: 0.10551720857620239, Accuracy: 97.0574951171875, Test Loss: 0.04999997466802597, Test Accuracy: 98.62999725341797\n",
      "Epoch 2, Loss: 0.08757072687149048, Accuracy: 97.55833435058594, Test Loss: 0.043274760246276855, Test Accuracy: 98.73500061035156\n",
      "Epoch 3, Loss: 0.07618454843759537, Accuracy: 97.8862533569336, Test Loss: 0.04000457748770714, Test Accuracy: 98.80333709716797\n",
      "Epoch 4, Loss: 0.0677381157875061, Accuracy: 98.11299896240234, Test Loss: 0.045524075627326965, Test Accuracy: 98.7249984741211\n",
      "Epoch 5, Loss: 0.061346136033535004, Accuracy: 98.28916931152344, Test Loss: 0.047910578548908234, Test Accuracy: 98.65599822998047\n",
      "Epoch 6, Loss: 0.056704096496105194, Accuracy: 98.4173812866211, Test Loss: 0.04712387174367905, Test Accuracy: 98.6866683959961\n",
      "Epoch 7, Loss: 0.05257628113031387, Accuracy: 98.5320816040039, Test Loss: 0.04496166482567787, Test Accuracy: 98.76714324951172\n",
      "Epoch 8, Loss: 0.04929240792989731, Accuracy: 98.6253662109375, Test Loss: 0.042724985629320145, Test Accuracy: 98.82500457763672\n",
      "Epoch 9, Loss: 0.04631608724594116, Accuracy: 98.70983123779297, Test Loss: 0.04285712167620659, Test Accuracy: 98.82222747802734\n",
      "Epoch 10, Loss: 0.043838534504175186, Accuracy: 98.78030395507812, Test Loss: 0.042507365345954895, Test Accuracy: 98.83999633789062\n"
     ]
    }
   ],
   "source": [
    "    for epoch in range(EPOCHS):\n",
    "        for images, labels in train_ds:\n",
    "            train_step(model, images, labels, loss_object, optimizer, train_loss, train_accuracy)\n",
    "        for test_images, test_labels in test_ds:\n",
    "            test_step(model, test_images, test_labels, loss_object, test_loss, test_accuracy)\n",
    "        template = 'Epoch {}, Loss: {}, Accuracy: {}, Test Loss: {}, Test Accuracy: {}'\n",
    "        print(template.format(epoch + 1,\n",
    "                              train_loss.result(),\n",
    "                              train_accuracy.result() * 100,\n",
    "                              test_loss.result(),\n",
    "                              test_accuracy.result()*100))"
   ]
  },
  {
   "cell_type": "code",
   "execution_count": null,
   "metadata": {},
   "outputs": [],
   "source": []
  }
 ],
 "metadata": {
  "kernelspec": {
   "display_name": "Python 3",
   "language": "python",
   "name": "python3"
  },
  "language_info": {
   "codemirror_mode": {
    "name": "ipython",
    "version": 3
   },
   "file_extension": ".py",
   "mimetype": "text/x-python",
   "name": "python",
   "nbconvert_exporter": "python",
   "pygments_lexer": "ipython3",
   "version": "3.8.5"
  }
 },
 "nbformat": 4,
 "nbformat_minor": 4
}

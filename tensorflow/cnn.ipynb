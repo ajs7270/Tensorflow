{
 "cells": [
  {
   "cell_type": "markdown",
   "metadata": {},
   "source": [
    "### Convolutional Neural Network"
   ]
  },
  {
   "cell_type": "code",
   "execution_count": 1,
   "metadata": {},
   "outputs": [],
   "source": [
    "import tensorflow as tf\n",
    "import numpy as np"
   ]
  },
  {
   "cell_type": "markdown",
   "metadata": {},
   "source": [
    "#### Hyper parameter"
   ]
  },
  {
   "cell_type": "code",
   "execution_count": 19,
   "metadata": {},
   "outputs": [],
   "source": [
    "EPOCHS = 10"
   ]
  },
  {
   "cell_type": "markdown",
   "metadata": {},
   "source": [
    "#### Define Model"
   ]
  },
  {
   "cell_type": "code",
   "execution_count": 20,
   "metadata": {},
   "outputs": [],
   "source": [
    "class ConvNet(tf.keras.Model):\n",
    "    def __init__(self):\n",
    "        super(ConvNet, self).__init__()\n",
    "        self.sequence = list()\n",
    "        self.sequence.append(tf.keras.layers.Conv2D(16, (3,3), padding='same', activation=\"relu\")) # 28x28x1 -> 28x28x16\n",
    "        self.sequence.append(tf.keras.layers.Conv2D(16, (3,3), padding='same', activation=\"relu\")) # 28x28x16 -> 28x28x16\n",
    "        self.sequence.append(tf.keras.layers.MaxPool2D((2,2)))# 28x28x16 -> 14x14x16\n",
    "        self.sequence.append(tf.keras.layers.Conv2D(32, (3,3), padding='same', activation=\"relu\")) # 14x14x16 -> 14x14x32\n",
    "        self.sequence.append(tf.keras.layers.Conv2D(32, (3,3), padding='same', activation=\"relu\")) # 14x14x32 -> 14x14x32\n",
    "        self.sequence.append(tf.keras.layers.MaxPool2D((2,2))) # 14x14x32 -> 7x7x32\n",
    "        self.sequence.append(tf.keras.layers.Conv2D(64, (3,3), padding='same', activation=\"relu\")) # 7x7x32 -> 7x7x64\n",
    "        self.sequence.append(tf.keras.layers.Conv2D(64, (3,3), padding='same', activation=\"relu\")) # 7x7x64 -> 7x7x64\n",
    "        self.sequence.append(tf.keras.layers.Flatten()) #1568 (feature vector)\n",
    "        # for classification\n",
    "        self.sequence.append(tf.keras.layers.Dense(2048,activation='relu'))\n",
    "        self.sequence.append(tf.keras.layers.Dense(10, activation='softmax'))\n",
    "        \n",
    "    def __call__(self, x, training=False, mask=None):\n",
    "        for layer in self.sequence:\n",
    "            x = layer(x)\n",
    "        return x"
   ]
  },
  {
   "cell_type": "markdown",
   "metadata": {},
   "source": [
    "#### Training loop    "
   ]
  },
  {
   "cell_type": "code",
   "execution_count": 26,
   "metadata": {},
   "outputs": [],
   "source": [
    "@tf.function\n",
    "def train_step(model, images, labels, loss_object, optimizer, train_loss, train_accuracy):\n",
    "    with tf.GradientTape() as tape:\n",
    "        predictions = model(images)\n",
    "        loss = loss_object(labels, predictions)\n",
    "    gradients = tape.gradient(loss, model.trainable_variables)\n",
    "    \n",
    "    optimizer.apply_gradients(zip(gradients, model.trainable_variables))\n",
    "    train_loss(loss)\n",
    "    train_accuracy(labels, predictions)"
   ]
  },
  {
   "cell_type": "markdown",
   "metadata": {},
   "source": [
    "#### algorithm test"
   ]
  },
  {
   "cell_type": "code",
   "execution_count": 27,
   "metadata": {},
   "outputs": [],
   "source": [
    "@tf.function\n",
    "def test_step(model, images, labels, loss_object, test_loss, test_accuracy):\n",
    "    predictions = model(images)\n",
    "    t_loss = loss_object(labels, predictions)\n",
    "    test_loss(t_loss)\n",
    "    test_accuracy(labels, predictions)"
   ]
  },
  {
   "cell_type": "markdown",
   "metadata": {},
   "source": [
    "#### ready dataset"
   ]
  },
  {
   "cell_type": "code",
   "execution_count": 28,
   "metadata": {},
   "outputs": [],
   "source": [
    "mnist = tf.keras.datasets.mnist\n",
    "(x_train, y_train), (x_test, y_test) = mnist.load_data()\n",
    "x_train, x_test = x_train / 255.0, x_test / 255.0\n",
    "\n",
    "# x_train : (NUM_SAMPLE, 28, 28) => (NUM_SAMPLE, 28, 28, 1) \n",
    "x_train = x_train[..., tf.newaxis].astype(np.float32)\n",
    "x_test = x_test[..., tf.newaxis].astype(np.float32)\n",
    "\n",
    "train_ds = tf.data.Dataset.from_tensor_slices((x_train, y_train)).shuffle(10000).batch(32)\n",
    "test_ds = tf.data.Dataset.from_tensor_slices((x_train, y_train)).batch(32)"
   ]
  },
  {
   "cell_type": "markdown",
   "metadata": {},
   "source": [
    "#### Set train environment"
   ]
  },
  {
   "cell_type": "code",
   "execution_count": 29,
   "metadata": {},
   "outputs": [],
   "source": [
    "# Create model\n",
    "model = ConvNet()\n",
    "\n",
    "#Define loss and optimizer\n",
    "loss_object = tf.keras.losses.SparseCategoricalCrossentropy()\n",
    "optimizer = tf.keras.optimizers.Adam()\n",
    "\n",
    "# Define performance metrics\n",
    "train_loss = tf.keras.metrics.Mean(name='train_loss')\n",
    "train_accuracy = tf.keras.metrics.SparseCategoricalAccuracy(name='train_accuracy')\n",
    "\n",
    "test_loss = tf.keras.metrics.Mean(name='test_loss')\n",
    "test_accuracy = tf.keras.metrics.SparseCategoricalAccuracy(name='test_accuracy')"
   ]
  },
  {
   "cell_type": "markdown",
   "metadata": {},
   "source": [
    "#### Run train loop"
   ]
  },
  {
   "cell_type": "code",
   "execution_count": 32,
   "metadata": {},
   "outputs": [
    {
     "name": "stdout",
     "output_type": "stream",
     "text": [
      "Epoch 1, Loss: 0.06333708763122559, Accuracy: 98.06111145019531, Test Loss:0.035716697573661804, Test Accuracy:98.91999816894531\n",
      "Epoch 2, Loss: 0.054064467549324036, Accuracy: 98.34416198730469, Test Loss:0.03178257495164871, Test Accuracy:99.038330078125\n",
      "Epoch 3, Loss: 0.04798305034637451, Accuracy: 98.52933502197266, Test Loss:0.02839864231646061, Test Accuracy:99.13700103759766\n",
      "Epoch 4, Loss: 0.043345991522073746, Accuracy: 98.66944885253906, Test Loss:0.025927642360329628, Test Accuracy:99.209716796875\n",
      "Epoch 5, Loss: 0.03987307846546173, Accuracy: 98.77285766601562, Test Loss:0.02378920651972294, Test Accuracy:99.27428436279297\n",
      "Epoch 6, Loss: 0.03698350116610527, Accuracy: 98.86479187011719, Test Loss:0.02358439192175865, Test Accuracy:99.28312683105469\n",
      "Epoch 7, Loss: 0.034776151180267334, Accuracy: 98.93647766113281, Test Loss:0.022063571959733963, Test Accuracy:99.3281478881836\n",
      "Epoch 8, Loss: 0.03277158364653587, Accuracy: 99.00350189208984, Test Loss:0.021114913746714592, Test Accuracy:99.35916900634766\n",
      "Epoch 9, Loss: 0.031041281297802925, Accuracy: 99.05924224853516, Test Loss:0.019550656899809837, Test Accuracy:99.40409088134766\n",
      "Epoch 10, Loss: 0.029466349631547928, Accuracy: 99.10916900634766, Test Loss:0.018790466710925102, Test Accuracy:99.4272232055664\n"
     ]
    }
   ],
   "source": [
    "for epoch in range(EPOCHS):\n",
    "    for images, labels in train_ds:\n",
    "        train_step(model, images, labels, loss_object, optimizer, train_loss, train_accuracy)\n",
    "    \n",
    "    for test_images, test_labels in test_ds:\n",
    "        test_step(model, test_images, test_labels, loss_object, test_loss, test_accuracy)\n",
    "        \n",
    "    template = 'Epoch {}, Loss: {}, Accuracy: {}, Test Loss:{}, Test Accuracy:{}'\n",
    "    print(template.format(epoch + 1,\n",
    "                          train_loss.result(),\n",
    "                          train_accuracy.result() * 100,\n",
    "                          test_loss.result(),\n",
    "                          test_accuracy.result() * 100))"
   ]
  }
 ],
 "metadata": {
  "kernelspec": {
   "display_name": "Python 3",
   "language": "python",
   "name": "python3"
  },
  "language_info": {
   "codemirror_mode": {
    "name": "ipython",
    "version": 3
   },
   "file_extension": ".py",
   "mimetype": "text/x-python",
   "name": "python",
   "nbconvert_exporter": "python",
   "pygments_lexer": "ipython3",
   "version": "3.8.5"
  }
 },
 "nbformat": 4,
 "nbformat_minor": 4
}

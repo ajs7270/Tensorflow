{
 "cells": [
  {
   "cell_type": "markdown",
   "metadata": {},
   "source": [
    "## CS231n Numpy Practice  "
   ]
  },
  {
   "cell_type": "markdown",
   "metadata": {},
   "source": [
    "#### Array"
   ]
  },
  {
   "cell_type": "code",
   "execution_count": 22,
   "metadata": {},
   "outputs": [
    {
     "name": "stdout",
     "output_type": "stream",
     "text": [
      "<class 'numpy.ndarray'>\n",
      "(3,)\n",
      "1 2 3\n",
      "[5 2 3]\n",
      "(2, 3)\n",
      "1\n",
      "1\n",
      "[[0. 0.]\n",
      " [0. 0.]]\n",
      "[[1. 1.]]\n",
      "[[5 5]\n",
      " [5 5]]\n",
      "[[1. 0. 0.]\n",
      " [0. 1. 0.]\n",
      " [0. 0. 1.]]\n",
      "[[0.83189636 0.52714748]\n",
      " [0.25556207 0.27622196]]\n"
     ]
    }
   ],
   "source": [
    "import numpy as np\n",
    "\n",
    "a = np.array([1,2,3])\n",
    "print(type(a))\n",
    "print(a.shape)\n",
    "print(a[0],a[1],a[2])\n",
    "a[0] = 5\n",
    "print(a)\n",
    "\n",
    "b = np.array([[1,2,3],[4,5,6]])\n",
    "print(b.shape)\n",
    "print(b[0][0])\n",
    "print(b[0,0])\n",
    "\n",
    "a = np.zeros((2,2))\n",
    "print(a)\n",
    "\n",
    "b = np.ones((1,2))\n",
    "print(b)\n",
    "\n",
    "c = np.full((2,2),5)\n",
    "print(c)\n",
    "\n",
    "d = np.eye(3) # Create Identity matrix\n",
    "print(d)\n",
    "\n",
    "e = np.random.random((2,2))\n",
    "print(e)"
   ]
  },
  {
   "cell_type": "markdown",
   "metadata": {},
   "source": [
    "#### Array indexing"
   ]
  },
  {
   "cell_type": "code",
   "execution_count": 30,
   "metadata": {},
   "outputs": [
    {
     "name": "stdout",
     "output_type": "stream",
     "text": [
      "[[ 1  2  3  4]\n",
      " [ 5  6  7  8]\n",
      " [ 9 10 11 12]]\n",
      "[[2 3]\n",
      " [6 7]]\n",
      "[[2 3]]\n",
      "[5 6 7 8] (4,)\n",
      "[[5 6 7 8]] (1, 4)\n"
     ]
    }
   ],
   "source": [
    "import numpy as np\n",
    "\n",
    "a = np.array([[1,2,3,4],[5,6,7,8],[9,10,11,12]])\n",
    "print(a)\n",
    "\n",
    "b = a[:2,1:3]  # first 2 row , and colums 1, 2\n",
    "print(b)\n",
    "\n",
    "c = a[:1,1:3]\n",
    "print(c)\n",
    "\n",
    "row_r1 = a[1,:] # rank (4,)\n",
    "print(row_r1, row_r1.shape)\n",
    "row_r2 = a[1:2,:] # rank (1,4)\n",
    "print(row_r2, row_r2.shape)"
   ]
  },
  {
   "cell_type": "code",
   "execution_count": 50,
   "metadata": {
    "scrolled": true
   },
   "outputs": [
    {
     "name": "stdout",
     "output_type": "stream",
     "text": [
      "[[1 2]\n",
      " [3 4]\n",
      " [5 6]]\n",
      "[1 3 5]\n",
      "[2 4 6]\n",
      "[1 4 5]\n",
      "[1 4 5]\n",
      "[2 2]\n",
      "[2 2]\n"
     ]
    }
   ],
   "source": [
    "a = np.array([[1,2],[3,4],[5,6]])\n",
    "print(a)\n",
    "print(a[[0,1,2],[0,0,0]])\n",
    "print(a[[0,1,2],[1,1,1]])\n",
    "print(a[[0,1,2],[0,1,0]]) # prints \"[1 4 5]\"\n",
    "\n",
    "print(np.array([a[0,0], a[1,1], a[2,0]]))\n",
    "\n",
    "print(a[[0,0],[1,1]])\n",
    "print(np.array([a[0,1], a[0,1]]))"
   ]
  },
  {
   "cell_type": "code",
   "execution_count": 60,
   "metadata": {},
   "outputs": [
    {
     "name": "stdout",
     "output_type": "stream",
     "text": [
      "[[ 1  2  3]\n",
      " [ 4  5  6]\n",
      " [ 7  8  9]\n",
      " [10 11 12]]\n",
      "[ 1  6  7 11]\n",
      "[[11  2  3]\n",
      " [ 4  5 16]\n",
      " [17  8  9]\n",
      " [10 21 12]]\n"
     ]
    }
   ],
   "source": [
    "import numpy as np\n",
    "\n",
    "a = np.array([[1,2,3],[4,5,6],[7,8,9],[10,11,12]])\n",
    "print(a)\n",
    "\n",
    "b = np.array([0,2,0,1])\n",
    "print(a[np.arange(4), b])\n",
    "\n",
    "a[np.arange(4), b] += 10\n",
    "print(a)"
   ]
  },
  {
   "cell_type": "code",
   "execution_count": 64,
   "metadata": {},
   "outputs": [
    {
     "name": "stdout",
     "output_type": "stream",
     "text": [
      "[[False False]\n",
      " [ True  True]\n",
      " [ True  True]]\n",
      "[3 4 5 6]\n",
      "[3 4 5 6]\n"
     ]
    }
   ],
   "source": [
    "import numpy as np\n",
    "\n",
    "a = np.array([[1,2],[3,4],[5,6]])\n",
    "\n",
    "bool_idx = (a > 2)\n",
    "\n",
    "print(bool_idx)\n",
    "print(a[bool_idx])\n",
    "print(a[a > 2])"
   ]
  },
  {
   "cell_type": "markdown",
   "metadata": {},
   "source": [
    "#### Datatypes"
   ]
  },
  {
   "cell_type": "code",
   "execution_count": 69,
   "metadata": {},
   "outputs": [
    {
     "name": "stdout",
     "output_type": "stream",
     "text": [
      "int64\n",
      "float64\n",
      "int64\n"
     ]
    }
   ],
   "source": [
    "import numpy as np\n",
    "\n",
    "x = np.array([1,2])\n",
    "print(x.dtype)\n",
    "\n",
    "x = np.array([1.0, 2.0])\n",
    "print(x.dtype)\n",
    "\n",
    "x = np.array([1,2], dtype=np.int64)\n",
    "print(x.dtype)"
   ]
  },
  {
   "cell_type": "markdown",
   "metadata": {},
   "source": [
    "#### Array math"
   ]
  },
  {
   "cell_type": "code",
   "execution_count": 76,
   "metadata": {},
   "outputs": [
    {
     "name": "stdout",
     "output_type": "stream",
     "text": [
      "[[1. 2.]\n",
      " [3. 4.]]\n",
      "[[5. 6.]\n",
      " [7. 8.]]\n",
      "[[ 6.  8.]\n",
      " [10. 12.]]\n",
      "[[ 6.  8.]\n",
      " [10. 12.]]\n",
      "[[-4. -4.]\n",
      " [-4. -4.]]\n",
      "[[-4. -4.]\n",
      " [-4. -4.]]\n",
      "[[ 5. 12.]\n",
      " [21. 32.]]\n",
      "[[ 5. 12.]\n",
      " [21. 32.]]\n",
      "[[0.2        0.33333333]\n",
      " [0.42857143 0.5       ]]\n",
      "[[0.2        0.33333333]\n",
      " [0.42857143 0.5       ]]\n",
      "[[1.         1.41421356]\n",
      " [1.73205081 2.        ]]\n"
     ]
    }
   ],
   "source": [
    "import numpy as np\n",
    "\n",
    "x = np.array([[1,2],[3,4]], dtype=np.float64)\n",
    "y = np.array([[5,6],[7,8]], dtype=np.float64)\n",
    "\n",
    "print(x)\n",
    "print(y)\n",
    "\n",
    "print(x + y)\n",
    "print(np.add(x,y))\n",
    "\n",
    "print(x - y)\n",
    "print(np.subtract(x,y))\n",
    "\n",
    "print(x * y)\n",
    "print(np.multiply(x,y))\n",
    "\n",
    "print(x / y)\n",
    "print(np.divide(x, y))\n",
    "\n",
    "print(np.sqrt(x))"
   ]
  },
  {
   "cell_type": "code",
   "execution_count": 79,
   "metadata": {},
   "outputs": [
    {
     "name": "stdout",
     "output_type": "stream",
     "text": [
      "219\n",
      "219\n",
      "[29 67]\n",
      "[29 67]\n",
      "[[19 22]\n",
      " [43 50]]\n",
      "[[19 22]\n",
      " [43 50]]\n"
     ]
    }
   ],
   "source": [
    "import numpy as np\n",
    "\n",
    "x = np.array([[1,2],[3,4]])\n",
    "y = np.array([[5,6],[7,8]])\n",
    "\n",
    "v = np.array([9, 10])\n",
    "w = np.array([11, 12])\n",
    "\n",
    "print(v.dot(w))\n",
    "print(np.dot(v, w))\n",
    "\n",
    "print(x.dot(v))\n",
    "print(np.dot(x,v))\n",
    "\n",
    "print(x.dot(y))\n",
    "print(np.dot(x,y))"
   ]
  },
  {
   "cell_type": "code",
   "execution_count": 80,
   "metadata": {},
   "outputs": [
    {
     "name": "stdout",
     "output_type": "stream",
     "text": [
      "10\n",
      "[4 6]\n",
      "[3 7]\n"
     ]
    }
   ],
   "source": [
    "import numpy as np\n",
    "\n",
    "x = np.array([[1,2],[3,4]])\n",
    "\n",
    "print(np.sum(x))\n",
    "print(np.sum(x, axis=0))\n",
    "print(np.sum(x, axis=1))"
   ]
  },
  {
   "cell_type": "code",
   "execution_count": 82,
   "metadata": {},
   "outputs": [
    {
     "name": "stdout",
     "output_type": "stream",
     "text": [
      "[[1 2]\n",
      " [3 4]]\n",
      "[[1 3]\n",
      " [2 4]]\n",
      "[1 2 3]\n",
      "[1 2 3]\n"
     ]
    }
   ],
   "source": [
    "import numpy as np\n",
    "\n",
    "x = np.array([[1,2],[3,4]])\n",
    "print(x)\n",
    "print(x.T)\n",
    "\n",
    "v = np.array([1,2,3])\n",
    "print(v)\n",
    "print(v.T)"
   ]
  },
  {
   "cell_type": "markdown",
   "metadata": {},
   "source": [
    "#### Broadcasting "
   ]
  },
  {
   "cell_type": "code",
   "execution_count": 87,
   "metadata": {},
   "outputs": [
    {
     "name": "stdout",
     "output_type": "stream",
     "text": [
      "[[ 1  2  3]\n",
      " [ 4  5  6]\n",
      " [ 7  8  9]\n",
      " [10 11 12]]\n",
      "[1 0 1]\n",
      "[[ 1  2  3]\n",
      " [ 4  5  6]\n",
      " [ 7  8  9]\n",
      " [10 11 12]]\n",
      "[[ 2  2  4]\n",
      " [ 5  5  7]\n",
      " [ 8  8 10]\n",
      " [11 11 13]]\n"
     ]
    }
   ],
   "source": [
    "import numpy as np\n",
    "\n",
    "x = np.array([[1,2,3],[4,5,6],[7,8,9],[10,11,12]])\n",
    "v = np.array([1,0,1])\n",
    "y = np.empty_like(x)\n",
    "\n",
    "print(x)\n",
    "print(v)\n",
    "print(y)\n",
    "\n",
    "for i in range(4):\n",
    "    y[i,:] = x[i, :] + v\n",
    "print(y)"
   ]
  },
  {
   "cell_type": "code",
   "execution_count": 96,
   "metadata": {},
   "outputs": [
    {
     "name": "stdout",
     "output_type": "stream",
     "text": [
      "[[ 1  2  3]\n",
      " [ 4  5  6]\n",
      " [ 7  8  9]\n",
      " [10 11 12]]\n",
      "[[1 0 1]\n",
      " [1 0 1]\n",
      " [1 0 1]\n",
      " [1 0 1]]\n",
      "[[ 2  2  4]\n",
      " [ 5  5  7]\n",
      " [ 8  8 10]\n",
      " [11 11 13]]\n"
     ]
    }
   ],
   "source": [
    "import numpy as np\n",
    "\n",
    "x = np.array([[1,2,3],[4,5,6],[7,8,9],[10,11,12]])\n",
    "v = np.array([1,0,1])\n",
    "vv = np.tile(v, (4,1))\n",
    "\n",
    "print(x)\n",
    "print(vv)\n",
    "\n",
    "y = x + vv\n",
    "print(y)"
   ]
  },
  {
   "cell_type": "code",
   "execution_count": 2,
   "metadata": {},
   "outputs": [
    {
     "name": "stdout",
     "output_type": "stream",
     "text": [
      "(100, 3) (100, 3)\n",
      "(100, 6)\n"
     ]
    },
    {
     "data": {
      "image/png": "[encoded data removed]",
      "text/plain": [
       "<Figure size 360x360 with 1 Axes>"
      ]
     },
     "metadata": {},
     "output_type": "display_data"
    }
   ],
   "source": [
    "import numpy as np\n",
    "import matplotlib.pyplot as plt\n",
    "\n",
    "N = 100\n",
    "x_data = np.random.normal(0,1,size=(N,1))\n",
    "y_data = x_data + 1 + 0.2*np.random.normal(0,1,size=(N,1))\n",
    "\n",
    "#print(x_data)\n",
    "#print(y_data)\n",
    "\n",
    "plt.style.use('seaborn')\n",
    "fig, ax = plt.subplots(figsize = (5,5))\n",
    "ax.plot(x_data,y_data, 'bo')\n",
    "\n",
    "print(x_data.shape, y_data.shape)\n",
    "\n",
    "data = np.hstack((x_data, y_data))\n",
    "print(data.shape)\n",
    "x_data = data[:,0]\n",
    "y_data = data[:,1]"
   ]
  },
  {
   "cell_type": "code",
   "execution_count": 16,
   "metadata": {},
   "outputs": [
    {
     "name": "stdout",
     "output_type": "stream",
     "text": [
      "[[-9.10516400e-02 -5.03943695e-01  2.60612151e+00]\n",
      " [ 6.99852736e-01 -1.20675103e+00  6.58962280e-01]\n",
      " [-3.21651629e-01  1.33578560e+00 -1.43932950e-01]\n",
      " [ 2.66137288e-01 -5.43465845e-01 -5.52194759e-01]\n",
      " [-3.28647513e-01  7.54594465e-02 -5.91934708e-01]\n",
      " [-9.41916031e-02  5.00407888e-01 -1.29171010e-01]\n",
      " [ 1.30550343e-01  3.28086150e-01 -1.10355829e+00]\n",
      " [-1.26520697e+00  1.25282623e+00 -1.71538820e-01]\n",
      " [ 6.20960904e-01 -2.29109321e-03  1.00404363e-01]\n",
      " [-5.33794992e-01 -8.53400028e-01  1.04665691e+00]]\n",
      "()\n",
      "1.1854850733648066\n",
      "(10,)\n",
      "[ 2.01112617  0.15206399  0.87020103 -0.82952332 -0.84512277  0.27704528\n",
      " -0.64492179 -0.18391956  0.71907417 -0.34053811]\n"
     ]
    }
   ],
   "source": [
    "import numpy as np\n",
    "import matplotlib.pyplot as plt\n",
    "\n",
    "N = 10\n",
    "n_feature = 3\n",
    "x_data = np.random.normal(0,1, size=(N,n_feature))\n",
    "\n",
    "print(x_data)\n",
    "print(np.sum(x_data).shape) # np.sum을 할 경우에는 전체 원소를 다 더하는 것을 알 수 있음\n",
    "print(np.sum(x_data))\n",
    "print(np.sum(x_data, axis=1).shape)\n",
    "print(np.sum(x_data, axis=1))"
   ]
  },
  {
   "cell_type": "code",
   "execution_count": 18,
   "metadata": {},
   "outputs": [
    {
     "name": "stdout",
     "output_type": "stream",
     "text": [
      "[[1, 2, 3], [4, 5, 6], [7, 8, 9]]\n",
      "6\n"
     ]
    }
   ],
   "source": [
    "test_list = [[1,2,3],[4,5,6],[7,8,9]]\n",
    "print(test_list)\n",
    "print(test_list[1][2])"
   ]
  },
  {
   "cell_type": "code",
   "execution_count": 18,
   "metadata": {},
   "outputs": [
    {
     "name": "stdout",
     "output_type": "stream",
     "text": [
      "[[ 1.48175271  0.8483361   0.99189416]\n",
      " [-0.06999749  0.70828717 -0.85707728]\n",
      " [-1.20303113 -0.87777768  0.5175526 ]\n",
      " [-1.59512642  0.51860176 -1.9305527 ]\n",
      " [ 0.22018852  0.11103532 -0.68746922]\n",
      " [ 1.07919713 -1.81384291 -0.64125342]\n",
      " [-0.10213239 -0.04628991  0.22178317]\n",
      " [ 0.88391337  0.58615442 -0.21654528]\n",
      " [ 2.03191216  0.16951333 -0.6401293 ]\n",
      " [-0.06766325 -0.70570637  0.4049205 ]]\n",
      "[ 3.32198297 -0.21878759 -1.56325621 -3.00707736 -0.35624538 -1.3758992\n",
      "  0.07336087  1.2535225   1.5612962  -0.36844911]\n",
      "(10,)\n",
      "(10, 1)\n",
      "[[ 0.80187644]\n",
      " [-0.03043274]\n",
      " [-0.14076013]\n",
      " [ 1.76351487]\n",
      " [-0.58971048]\n",
      " [ 1.31110123]\n",
      " [ 0.34711872]\n",
      " [-1.95407534]\n",
      " [-0.86707066]\n",
      " [-0.45520688]]\n",
      "(10, 1)\n",
      "[[ 3.09868677]\n",
      " [-0.61823765]\n",
      " [-1.68356199]\n",
      " [-2.69422295]\n",
      " [-0.36236403]\n",
      " [-1.45165243]\n",
      " [ 0.17514784]\n",
      " [ 1.12991523]\n",
      " [ 1.61235768]\n",
      " [-0.48241089]]\n"
     ]
    }
   ],
   "source": [
    "import numpy as np\n",
    "import matplotlib.pyplot as plt\n",
    "\n",
    "N = 10\n",
    "n_feature = 3\n",
    "x_data = np.random.normal(0,1,size=(N,n_feature))\n",
    "print(x_data)\n",
    "print(np.sum(x_data,axis=1))\n",
    "print(np.sum(x_data,axis=1).shape)\n",
    "print(np.random.normal(0,1,size=(N,1)).shape) \n",
    "print(np.random.normal(0,1,size=(N,1)))\n",
    "y_data = np.sum(x_data,axis=1).reshape(-1,1) + 0.2*np.random.normal(0,1,size=(N,1))\n",
    "\n",
    "print(y_data.shape)\n",
    "\n",
    "\n",
    "print(y_data) "
   ]
  },
  {
   "cell_type": "code",
   "execution_count": 48,
   "metadata": {},
   "outputs": [
    {
     "name": "stdout",
     "output_type": "stream",
     "text": [
      "[[-1.60718037e+00]\n",
      " [ 6.02262562e-01]\n",
      " [ 6.69693252e-01]\n",
      " [ 6.99690444e-01]\n",
      " [ 1.55879702e+00]\n",
      " [ 7.17997057e-01]\n",
      " [ 2.93480493e+00]\n",
      " [ 2.92650359e-01]\n",
      " [-6.61004116e-01]\n",
      " [ 1.82225149e+00]\n",
      " [ 1.41065942e+00]\n",
      " [ 6.46804504e-02]\n",
      " [-4.62763959e-01]\n",
      " [-5.93866750e-01]\n",
      " [ 4.91211266e-01]\n",
      " [-6.54662430e-01]\n",
      " [-2.60158267e-01]\n",
      " [ 4.60519950e-01]\n",
      " [-4.01343841e-01]\n",
      " [ 1.31208714e+00]\n",
      " [-9.59838327e-01]\n",
      " [-1.34186000e+00]\n",
      " [ 6.87949744e-01]\n",
      " [ 2.21088758e-02]\n",
      " [-7.04854001e-01]\n",
      " [ 6.08250405e-01]\n",
      " [-1.64012366e-01]\n",
      " [ 3.18479845e-01]\n",
      " [-1.60811277e+00]\n",
      " [ 1.26817430e+00]\n",
      " [-6.66416366e-01]\n",
      " [ 6.72890396e-01]\n",
      " [ 7.60204637e-01]\n",
      " [ 2.36573981e+00]\n",
      " [ 7.29931827e-01]\n",
      " [-1.85735581e-01]\n",
      " [-1.38956249e+00]\n",
      " [-8.90915166e-01]\n",
      " [ 9.76562246e-01]\n",
      " [-2.54418471e-01]\n",
      " [ 9.28154653e-01]\n",
      " [-6.55522390e-01]\n",
      " [ 1.62825789e+00]\n",
      " [-7.34773682e-01]\n",
      " [-1.56818888e+00]\n",
      " [-5.78808436e-01]\n",
      " [-4.58103604e-02]\n",
      " [-3.35432190e-01]\n",
      " [ 1.06492198e-01]\n",
      " [ 2.01222351e+00]\n",
      " [ 1.20560308e+00]\n",
      " [-1.63163459e+00]\n",
      " [-6.00926619e-01]\n",
      " [-7.73403314e-01]\n",
      " [ 2.38479818e+00]\n",
      " [ 1.06801916e+00]\n",
      " [ 1.59335743e+00]\n",
      " [ 1.28941502e+00]\n",
      " [ 9.78202715e-01]\n",
      " [-2.74350904e-01]\n",
      " [-3.16181580e+00]\n",
      " [ 1.29040883e+00]\n",
      " [-4.68874446e-01]\n",
      " [-3.75068963e-03]\n",
      " [ 6.57570021e-01]\n",
      " [-1.62467000e+00]\n",
      " [-4.22275671e-01]\n",
      " [ 1.39063080e+00]\n",
      " [ 7.19031055e-01]\n",
      " [-6.77337569e-01]\n",
      " [-7.80128679e-02]\n",
      " [-6.17962881e-01]\n",
      " [-1.42269426e+00]\n",
      " [ 3.22369528e-01]\n",
      " [-1.28652571e+00]\n",
      " [ 7.74510102e-01]\n",
      " [ 8.67691602e-01]\n",
      " [ 1.58800861e+00]\n",
      " [ 2.37659230e+00]\n",
      " [ 2.51362639e-02]\n",
      " [-8.63778354e-01]\n",
      " [ 1.53555077e+00]\n",
      " [ 8.11569375e-01]\n",
      " [ 2.06302677e+00]\n",
      " [ 2.51931571e+00]\n",
      " [-4.81682526e-01]\n",
      " [ 1.96993161e-01]\n",
      " [-1.66154152e+00]\n",
      " [ 5.05672085e-01]\n",
      " [ 1.30909374e+00]\n",
      " [-1.22015032e+00]\n",
      " [ 2.01741990e-01]\n",
      " [ 8.73787813e-01]\n",
      " [-1.72129562e+00]\n",
      " [ 2.37124092e-01]\n",
      " [ 4.88871478e-01]\n",
      " [-5.12740936e-01]\n",
      " [ 1.10085639e-01]\n",
      " [-4.00952702e-01]\n",
      " [ 9.82494884e-01]\n",
      " [-2.26167031e-01]\n",
      " [-1.51680837e+00]\n",
      " [ 5.23631953e-01]\n",
      " [-6.57848072e-01]\n",
      " [ 6.64979982e-01]\n",
      " [-3.76212994e+00]\n",
      " [ 1.12997666e+00]\n",
      " [-4.31747209e-01]\n",
      " [ 5.34339516e-01]\n",
      " [ 1.80110823e+00]\n",
      " [ 1.69300217e+00]\n",
      " [-3.44659822e-01]\n",
      " [-7.13755990e-01]\n",
      " [-1.72825012e+00]\n",
      " [-1.79151568e+00]\n",
      " [-7.77748877e-02]\n",
      " [-9.95624398e-01]\n",
      " [-2.80027789e-01]\n",
      " [-9.58959617e-01]\n",
      " [-7.15224436e-01]\n",
      " [-6.96838921e-01]\n",
      " [ 1.48444309e+00]\n",
      " [-1.89906395e-01]\n",
      " [ 1.39332938e-01]\n",
      " [ 1.06091671e+00]\n",
      " [ 8.53508649e-01]\n",
      " [-1.47750652e+00]\n",
      " [ 1.04177548e+00]\n",
      " [ 4.18631297e-01]\n",
      " [-1.06200526e+00]\n",
      " [ 3.35540841e-01]\n",
      " [-1.63060227e+00]\n",
      " [-9.43977316e-02]\n",
      " [ 1.60021182e+00]\n",
      " [-2.76328983e-01]\n",
      " [ 1.27151316e+00]\n",
      " [-1.46280644e+00]\n",
      " [ 9.56863044e-01]\n",
      " [ 5.61167974e-02]\n",
      " [-6.37528067e-01]\n",
      " [-3.15517334e-01]\n",
      " [-1.21509847e+00]\n",
      " [ 7.58662916e-01]\n",
      " [-2.96674379e-01]\n",
      " [-9.23765590e-01]\n",
      " [ 1.24691544e+00]\n",
      " [-7.53714164e-01]\n",
      " [-3.37576570e-01]\n",
      " [ 2.12482121e-01]\n",
      " [-1.18793145e+00]\n",
      " [-8.60972380e-01]\n",
      " [ 1.06792068e+00]\n",
      " [-6.90234473e-01]\n",
      " [-2.81862842e-01]\n",
      " [-8.88078996e-01]\n",
      " [ 6.04230702e-01]\n",
      " [-6.23296600e-01]\n",
      " [ 1.71537247e+00]\n",
      " [ 1.08251552e-01]\n",
      " [ 1.53647426e-01]\n",
      " [-8.06679231e-02]\n",
      " [-4.79698220e-01]\n",
      " [ 1.52319527e-01]\n",
      " [-5.26654995e-01]\n",
      " [ 1.07855163e+00]\n",
      " [ 5.10143504e-01]\n",
      " [ 2.25737952e-01]\n",
      " [ 7.73899391e-01]\n",
      " [ 3.11037013e-01]\n",
      " [ 8.16224547e-01]\n",
      " [-3.02609143e-01]\n",
      " [ 9.30794070e-02]\n",
      " [-1.05319643e-01]\n",
      " [ 1.81796689e-02]\n",
      " [ 8.10261193e-01]\n",
      " [ 9.50081341e-01]\n",
      " [ 2.81960272e-01]\n",
      " [ 2.35429213e+00]\n",
      " [-8.12489028e-01]\n",
      " [-6.15078533e-01]\n",
      " [-1.18483197e+00]\n",
      " [ 7.85594976e-01]\n",
      " [ 5.31232514e-01]\n",
      " [-1.56438767e+00]\n",
      " [ 9.76844569e-01]\n",
      " [ 1.27031051e-02]\n",
      " [-6.47560339e-01]\n",
      " [-6.60405732e-01]\n",
      " [-1.91714568e-01]\n",
      " [-6.43950923e-01]\n",
      " [-6.86565436e-01]\n",
      " [-1.51265932e+00]\n",
      " [ 1.95813075e+00]\n",
      " [-1.19863184e+00]\n",
      " [ 6.98565986e-01]\n",
      " [ 5.02298701e-01]\n",
      " [ 2.81305724e-01]\n",
      " [ 1.89854653e+00]\n",
      " [ 3.51898951e-01]\n",
      " [ 2.42182362e+00]]\n",
      "(200, 1) (200, 1)\n"
     ]
    },
    {
     "data": {
      "image/png": "[encoded data removed]",
      "text/plain": [
       "<Figure size 720x720 with 1 Axes>"
      ]
     },
     "metadata": {},
     "output_type": "display_data"
    }
   ],
   "source": [
    "import numpy as np\n",
    "import matplotlib.pyplot as plt\n",
    "\n",
    "class dataset_generator:\n",
    "      def __init__(self, n_sample=100, noise=0,feature_dim=1):\n",
    "        self._n_sample = n_sample\n",
    "        self._noise = noise\n",
    "        self._feature_dim = feature_dim\n",
    "        \n",
    "        self._coefficient = None\n",
    "        self._init_set_coefficient()\n",
    "        \n",
    "    def _init_set_coefficient(self):\n",
    "        self._coefficient = [1 for co in range(self._feature_dim)] + [0]\n",
    "    \n",
    "    def make_dataset(self):\n",
    "        self.x_data = np.random.normal(0, 1, size=(self._n_sample, self._feature_dim))\n",
    "        \n",
    "        self.y_data = np.zeros(shape =(self._n_sample,1))\n",
    "        for feature_idx in range(self._feature_dim):\n",
    "            self.y_data += self._coefficient[feature_idx]*x_data[:,feature_idx].reshape(-1,1)\n",
    "        self.y_data = self.x_data + self._noise * np.random.normal(0, 1, size=(self._n_sample,1))\n",
    "        \n",
    "        return x_data, y_data\n",
    "    \n",
    "    def dataset_visualizer(self):\n",
    "        if self._feature_dim == 1:\n",
    "            plt.style.use('seaborn')\n",
    "            fig, ax = plt.subplots(figsize=(10,10))\n",
    "            ax.plot(self.x_data, self.y_data, 'bo',\n",
    "                   alpha= 0.3,\n",
    "                   markersize=20)\n",
    "        else:\n",
    "            class feature_dim_error(Exception):\n",
    "                pass\n",
    "            raise feature_dim_error(\"Visualization is valid for only feature_dim == 1\")\n",
    "data_gen = dataset_generator(200,0.3,1)\n",
    "data_gen.make_dataset()\n",
    "\n",
    "#print(data_gen.x_data)\n",
    "print(x_data.shape, y_data.shape)\n",
    "data_gen.dataset_visualizer()\n",
    "\n",
    "\n",
    "        "
   ]
  },
  {
   "cell_type": "code",
   "execution_count": 43,
   "metadata": {},
   "outputs": [
    {
     "name": "stdout",
     "output_type": "stream",
     "text": [
      "200\n"
     ]
    }
   ],
   "source": [
    "print(data_gen._n_sample)"
   ]
  },
  {
   "cell_type": "code",
   "execution_count": 40,
   "metadata": {},
   "outputs": [
    {
     "name": "stdout",
     "output_type": "stream",
     "text": [
      "[1, 1, 1, 1, 1, 1, 1, 1, 1, 1, 0]\n"
     ]
    }
   ],
   "source": [
    "print([1 for _ in range(10)] + [0])"
   ]
  },
  {
   "cell_type": "code",
   "execution_count": 41,
   "metadata": {},
   "outputs": [
    {
     "name": "stdout",
     "output_type": "stream",
     "text": [
      "range(0, 10)\n",
      "[0 1 2 3 4 5 6 7 8 9]\n"
     ]
    }
   ],
   "source": [
    "print(range(10))\n",
    "print(np.arange(10))"
   ]
  },
  {
   "cell_type": "code",
   "execution_count": 22,
   "metadata": {},
   "outputs": [
    {
     "name": "stdout",
     "output_type": "stream",
     "text": [
      "[[0.49625713 0.95649275 0.43841237]\n",
      " [0.802613   0.58827348 0.56776225]\n",
      " [0.61012677 0.47997742 0.52733958]]\n",
      "[0.43841237 0.56776225 0.52733958]\n",
      "[[0.43841237]\n",
      " [0.56776225]\n",
      " [0.52733958]]\n"
     ]
    }
   ],
   "source": [
    "matrix = np.random.random((3,3))\n",
    "print(matrix)\n",
    "\n",
    "print(matrix[:,2])\n",
    "print(matrix[:,2].reshape(-1,1))"
   ]
  },
  {
   "cell_type": "code",
   "execution_count": null,
   "metadata": {},
   "outputs": [],
   "source": []
  }
 ],
 "metadata": {
  "kernelspec": {
   "display_name": "Python 3",
   "language": "python",
   "name": "python3"
  },
  "language_info": {
   "codemirror_mode": {
    "name": "ipython",
    "version": 3
   },
   "file_extension": ".py",
   "mimetype": "text/x-python",
   "name": "python",
   "nbconvert_exporter": "python",
   "pygments_lexer": "ipython3",
   "version": "3.8.5"
  }
 },
 "nbformat": 4,
 "nbformat_minor": 4
}

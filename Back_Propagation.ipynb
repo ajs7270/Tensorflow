{
 "cells": [
  {
   "cell_type": "code",
   "execution_count": 86,
   "metadata": {},
   "outputs": [],
   "source": [
    "import time\n",
    "import numpy as np"
   ]
  },
  {
   "cell_type": "markdown",
   "metadata": {},
   "source": [
    "###  Utility Function"
   ]
  },
  {
   "cell_type": "code",
   "execution_count": 87,
   "metadata": {},
   "outputs": [],
   "source": [
    "epsilon = 0.0001\n",
    "np.random.seed(0)\n",
    "\n",
    "def _t(x):\n",
    "    return np.transpose(x)\n",
    "\n",
    "def _m(A,B):\n",
    "    return np.matmul(A,B)\n",
    "\n",
    "def sigmoid(x):\n",
    "    return 1/ (1+np.exp(-x))\n",
    "\n",
    "def mean_squared_error(h, y):\n",
    "    return 1 / 2 * np.mean(np.square(h - y))\n",
    "    "
   ]
  },
  {
   "cell_type": "markdown",
   "metadata": {},
   "source": [
    "### Define Neuron "
   ]
  },
  {
   "cell_type": "markdown",
   "metadata": {},
   "source": [
    "#### numpy function\n",
    "###### numpy.random.normal(loc=0.0, scale=1.0, size=None)\n",
    "loc = float or array_like of floats\n",
    "mean of the distribution\n",
    "\n",
    "scale = float or array_like of floats\n",
    "standard deviation(spread or \"width\") of distribution. Must be non-negative\n",
    "\n",
    "size = int or tuple of ints, optional\n",
    "Output shape. if the given shape is `(m,n,k)`, then `m*n*k` smaples are drawn. if size is None, a single value is returned if `loc` and `scale` are both scalars.\n",
    "\n",
    "###### numpy.zeros_like(a, dtype=None, order='K', subok=True, shape=None)\n",
    "a = array_like\n",
    "the shape and data-type of a define these same attributes of the retured array\n",
    "```python\n",
    ">>> x = np.arange(6)\n",
    ">>> x = x.reshape((2, 3))\n",
    ">>> x\n",
    "array([[0, 1, 2],\n",
    "       [3, 4, 5]])\n",
    "\n",
    ">>> np.zeros_like(x)\n",
    "array([[0, 0, 0],\n",
    "       [0, 0, 0]])       \n",
    "```"
   ]
  },
  {
   "cell_type": "code",
   "execution_count": 88,
   "metadata": {},
   "outputs": [],
   "source": [
    "class Neuron:\n",
    "    def __init__(self, W, b, a):\n",
    "        # Model Parametor\n",
    "        self.W = W\n",
    "        self.b = b \n",
    "        self.a = a # activation function\n",
    "        \n",
    "        # Gradients\n",
    "        self.dW = np.zeros_like(self.W)\n",
    "        self.db = np.zeros_like(self.b)\n",
    "        \n",
    "    def __call__(self, x):\n",
    "        return self.a(_m(_t(self.W), x) + self.b) # activation((W^T)x + b)"
   ]
  },
  {
   "cell_type": "markdown",
   "metadata": {},
   "source": [
    "###  Deep Neural Network"
   ]
  },
  {
   "cell_type": "code",
   "execution_count": 89,
   "metadata": {},
   "outputs": [],
   "source": [
    "class DNN:\n",
    "    def __init__(self, hidden_depth, num_neuron, num_input, num_output, activation=sigmoid):\n",
    "        def init_var(i, o):\n",
    "            return np.random.normal(0.0, 0.01, (i,o)), np.zeros((o,))\n",
    "        self.sequence = list()\n",
    "        \n",
    "        # Fisrt hidden layer\n",
    "        W, b= init_var(num_input, num_neuron)\n",
    "        self.sequence.append(Neuron(W,b, activation))\n",
    "        \n",
    "        # Hidden layers\n",
    "        for _ in range(hidden_depth):\n",
    "            W, b= init_var(num_neuron, num_neuron)\n",
    "            self.sequence.append(Neuron(W,b, activation))\n",
    "        \n",
    "        # Output layer\n",
    "        W, b = init_var(num_neuron, num_output)\n",
    "        self.sequence.append(Neuron(W,b, activation))\n",
    "        \n",
    "    def __call__(self,x):\n",
    "        for layer in self.sequence:\n",
    "            x = layer(x)\n",
    "        return x\n",
    "    \n",
    "    def calc_gradient(self, x, y, loss_func):\n",
    "        def get_new_sequence(layer_index, new_neuron):\n",
    "            new_sequence = list()\n",
    "            for i, layer in enumerate(self.sequence):\n",
    "                if i == layer_index :\n",
    "                    new_sequence.append(new_neuron)\n",
    "                else:\n",
    "                    new_sequence.append(layer)\n",
    "            return new_sequence\n",
    "        \n",
    "        def eval_sequence(x, sequence):\n",
    "            for layer in sequence:\n",
    "                x = layer(x)\n",
    "            return x\n",
    "        \n",
    "        # 기준이 되는 현재 상태의 loss 계산\n",
    "        loss = loss_func(self(x), y) # 추정값, 결과값\n",
    "        # loss = loss_func(self.__init__(x), y) 과 동일\n",
    "        \n",
    "        for layer_id, layer in enumerate(self.sequence):\n",
    "            for w_i, w in enumerate(layer.W): # iterate W (row)\n",
    "                for w_j, ww in enumerate(w): # iterate w (col)\n",
    "                    W = np.copy(layer.W)\n",
    "                    W[w_i][w_j] = ww + epsilon\n",
    "                    \n",
    "                    new_neuron = Neuron(W, layer.b, layer.a)\n",
    "                    new_seq = get_new_sequence(layer_id, new_neuron)\n",
    "                    h = eval_sequence(x, new_seq)\n",
    "                    \n",
    "                    num_grad = (loss_func(h,y) - loss) / epsilon # f(x+eps) - f(x) / eps\n",
    "                    layer.dW[w_i][w_j] = num_grad\n",
    "                for b_i, bb in enumerate(layer.b): # iterate w (col)\n",
    "                    b = np.copy(layer.b)\n",
    "                    b[b_i] = bb + epsilon\n",
    "                    \n",
    "                    new_neuron = Neuron(layer.W, b, layer.a)\n",
    "                    new_seq = get_new_sequence(layer_id, new_neuron)\n",
    "                    h = eval_sequence(x, new_seq)\n",
    "                    \n",
    "                    num_grad = (loss_func(h,y) - loss) / epsilon # f(x+eps) - f(x) / eps\n",
    "                    layer.db[b_i] = num_grad\n",
    "        return loss"
   ]
  },
  {
   "cell_type": "markdown",
   "metadata": {},
   "source": [
    "###  Gradient Descent"
   ]
  },
  {
   "cell_type": "code",
   "execution_count": 90,
   "metadata": {},
   "outputs": [],
   "source": [
    "def gradient_descent(network, x, y, loss_obj, alpha=0.01):\n",
    "    loss = network.calc_gradient(x,y,loss_obj)\n",
    "    for layer in network.sequence:\n",
    "        layer.W += -alpha * layer.dW\n",
    "        layer.b += -alpha * layer.db\n",
    "    return loss"
   ]
  },
  {
   "cell_type": "markdown",
   "metadata": {},
   "source": [
    "###  동작 테스트"
   ]
  },
  {
   "cell_type": "code",
   "execution_count": 91,
   "metadata": {},
   "outputs": [
    {
     "name": "stdout",
     "output_type": "stream",
     "text": [
      "Epoch 0: Test loss 0.2601871301682722\n",
      "Epoch 1: Test loss 0.25872109434802293\n",
      "Epoch 2: Test loss 0.2572633168616838\n",
      "Epoch 3: Test loss 0.2558138966963392\n",
      "Epoch 4: Test loss 0.25437292852721827\n",
      "Epoch 5: Test loss 0.2529405027235575\n",
      "Epoch 6: Test loss 0.25151670535955306\n",
      "Epoch 7: Test loss 0.2501016182301732\n",
      "Epoch 8: Test loss 0.24869531887173726\n",
      "Epoch 9: Test loss 0.24729788058695665\n",
      "Epoch 10: Test loss 0.24590937247451616\n",
      "Epoch 11: Test loss 0.24452985946274358\n",
      "Epoch 12: Test loss 0.2431594023473848\n",
      "Epoch 13: Test loss 0.24179805783320063\n",
      "Epoch 14: Test loss 0.240445878579229\n",
      "Epoch 15: Test loss 0.23910291324750862\n",
      "Epoch 16: Test loss 0.23776920655513684\n",
      "Epoch 17: Test loss 0.2364447993293322\n",
      "Epoch 18: Test loss 0.2351297285654843\n",
      "Epoch 19: Test loss 0.2338240274878536\n",
      "Epoch 20: Test loss 0.23252772561280946\n",
      "Epoch 21: Test loss 0.23124084881437787\n",
      "Epoch 22: Test loss 0.22996341939197767\n",
      "Epoch 23: Test loss 0.22869545614004272\n",
      "Epoch 24: Test loss 0.22743697441951077\n",
      "Epoch 25: Test loss 0.2261879862308214\n",
      "Epoch 26: Test loss 0.22494850028840185\n",
      "Epoch 27: Test loss 0.22371852209634555\n",
      "Epoch 28: Test loss 0.2224980540252509\n",
      "Epoch 29: Test loss 0.22128709538994723\n",
      "Epoch 30: Test loss 0.22008564252798132\n",
      "Epoch 31: Test loss 0.21889368887872623\n",
      "Epoch 32: Test loss 0.21771122506300356\n",
      "Epoch 33: Test loss 0.21653823896296023\n",
      "Epoch 34: Test loss 0.21537471580224377\n",
      "Epoch 35: Test loss 0.2142206382261591\n",
      "Epoch 36: Test loss 0.21307598638179565\n",
      "Epoch 37: Test loss 0.21194073799797758\n",
      "Epoch 38: Test loss 0.21081486846497463\n",
      "Epoch 39: Test loss 0.20969835091374922\n",
      "Epoch 40: Test loss 0.20859115629475938\n",
      "Epoch 41: Test loss 0.20749325345614086\n",
      "Epoch 42: Test loss 0.20640460922122428\n",
      "Epoch 43: Test loss 0.20532518846533965\n",
      "Epoch 44: Test loss 0.204254954191688\n",
      "Epoch 45: Test loss 0.2031938676063765\n",
      "Epoch 46: Test loss 0.20214188819244086\n",
      "Epoch 47: Test loss 0.2010989737828499\n",
      "Epoch 48: Test loss 0.20006508063239278\n",
      "Epoch 49: Test loss 0.19904016348840292\n",
      "Epoch 50: Test loss 0.19802417566035008\n",
      "Epoch 51: Test loss 0.1970170690881061\n",
      "Epoch 52: Test loss 0.1960187944089909\n",
      "Epoch 53: Test loss 0.19502930102349098\n",
      "Epoch 54: Test loss 0.19404853715963916\n",
      "Epoch 55: Test loss 0.19307644993599968\n",
      "Epoch 56: Test loss 0.19211298542331764\n",
      "Epoch 57: Test loss 0.191158088704737\n",
      "Epoch 58: Test loss 0.1902117039345504\n",
      "Epoch 59: Test loss 0.18927377439557655\n",
      "Epoch 60: Test loss 0.1883442425550752\n",
      "Epoch 61: Test loss 0.18742305011923735\n",
      "Epoch 62: Test loss 0.18651013808616249\n",
      "Epoch 63: Test loss 0.18560544679744842\n",
      "Epoch 64: Test loss 0.18470891598831066\n",
      "Epoch 65: Test loss 0.1838204848362527\n",
      "Epoch 66: Test loss 0.18294009200830916\n",
      "Epoch 67: Test loss 0.18206767570689036\n",
      "Epoch 68: Test loss 0.18120317371412553\n",
      "Epoch 69: Test loss 0.1803465234349276\n",
      "Epoch 70: Test loss 0.1794976619385538\n",
      "Epoch 71: Test loss 0.17865652599887735\n",
      "Epoch 72: Test loss 0.1778230521332495\n",
      "Epoch 73: Test loss 0.17699717664006298\n",
      "Epoch 74: Test loss 0.17617883563500614\n",
      "Epoch 75: Test loss 0.17536796508595212\n",
      "Epoch 76: Test loss 0.17456450084665054\n",
      "Epoch 77: Test loss 0.17376837868914558\n",
      "Epoch 78: Test loss 0.17297953433494817\n",
      "Epoch 79: Test loss 0.17219790348500308\n",
      "Epoch 80: Test loss 0.17142342184849912\n",
      "Epoch 81: Test loss 0.17065602517052528\n",
      "Epoch 82: Test loss 0.16989564925853998\n",
      "Epoch 83: Test loss 0.16914223000781373\n",
      "Epoch 84: Test loss 0.16839570342574553\n",
      "Epoch 85: Test loss 0.16765600565512284\n",
      "Epoch 86: Test loss 0.1669230729963763\n",
      "Epoch 87: Test loss 0.16619684192882236\n",
      "Epoch 88: Test loss 0.1654772491309193\n",
      "Epoch 89: Test loss 0.1647642314995977\n",
      "Epoch 90: Test loss 0.16405772616864764\n",
      "Epoch 91: Test loss 0.16335767052618236\n",
      "Epoch 92: Test loss 0.16266400223131935\n",
      "Epoch 93: Test loss 0.16197665922989382\n",
      "Epoch 94: Test loss 0.16129557976943676\n",
      "Epoch 95: Test loss 0.1606207024133477\n",
      "Epoch 96: Test loss 0.1599519660542162\n",
      "Epoch 97: Test loss 0.15928930992652612\n",
      "Epoch 98: Test loss 0.1586326736185089\n",
      "Epoch 99: Test loss 0.15798199708335936\n",
      "118.82148933410645 seconds elapsed.\n"
     ]
    }
   ],
   "source": [
    "x = np.random.normal(0.0, 1.0, (10,))\n",
    "y = np.random.normal(0.0, 1.0, (2,))\n",
    "\n",
    "dnn = DNN(hidden_depth=5, num_neuron=32, num_input=10, num_output=2, activation=sigmoid)\n",
    "\n",
    "t = time.time()\n",
    "for epoch in range(100):\n",
    "    loss = gradient_descent(dnn, x, y, mean_squared_error, 0.01)\n",
    "    print('Epoch {}: Test loss {}'.format(epoch, loss))\n",
    "print('{} seconds elapsed.'.format(time.time() - t))"
   ]
  },
  {
   "cell_type": "code",
   "execution_count": 41,
   "metadata": {},
   "outputs": [
    {
     "data": {
      "text/plain": [
       "array([-0.78310075,  0.48886626, -0.93393626, -0.71124334, -1.01567754,\n",
       "       -0.24991041, -0.46448255, -1.45380872, -0.19186241, -1.24207341])"
      ]
     },
     "execution_count": 41,
     "metadata": {},
     "output_type": "execute_result"
    }
   ],
   "source": [
    "np.random.normal(0.0,1.0,(10,))"
   ]
  },
  {
   "cell_type": "code",
   "execution_count": 45,
   "metadata": {},
   "outputs": [
    {
     "data": {
      "text/plain": [
       "array([-1.61164024,  0.39903648, -0.23499778, -0.48118335,  1.13834965,\n",
       "        1.28179925, -0.59266593, -1.6601261 ,  1.31482232, -1.52167554])"
      ]
     },
     "execution_count": 45,
     "metadata": {},
     "output_type": "execute_result"
    }
   ],
   "source": [
    "np.random.normal(0.0,1.0,(10,))"
   ]
  }
 ],
 "metadata": {
  "kernelspec": {
   "display_name": "Python 3",
   "language": "python",
   "name": "python3"
  },
  "language_info": {
   "codemirror_mode": {
    "name": "ipython",
    "version": 3
   },
   "file_extension": ".py",
   "mimetype": "text/x-python",
   "name": "python",
   "nbconvert_exporter": "python",
   "pygments_lexer": "ipython3",
   "version": "3.8.5"
  }
 },
 "nbformat": 4,
 "nbformat_minor": 4
}

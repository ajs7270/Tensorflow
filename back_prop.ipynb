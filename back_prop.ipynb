{
 "cells": [
  {
   "cell_type": "markdown",
   "metadata": {},
   "source": [
    "###  Back Prop"
   ]
  },
  {
   "cell_type": "code",
   "execution_count": 10,
   "metadata": {},
   "outputs": [],
   "source": [
    "import time\n",
    "import numpy as np"
   ]
  },
  {
   "cell_type": "markdown",
   "metadata": {},
   "source": [
    "#####  유틸리티 함수"
   ]
  },
  {
   "cell_type": "code",
   "execution_count": 11,
   "metadata": {},
   "outputs": [],
   "source": [
    "def _t(x):\n",
    "    return np.transpose(x)\n",
    "def _m(A,B):\n",
    "    return np.matmul(A,B)"
   ]
  },
  {
   "cell_type": "markdown",
   "metadata": {},
   "source": [
    "#####  Sigmoid"
   ]
  },
  {
   "cell_type": "code",
   "execution_count": 12,
   "metadata": {},
   "outputs": [],
   "source": [
    "class Sigmoid:\n",
    "    def __init__(self):\n",
    "        # 마지막 출력을 저장\n",
    "        self.last_o = 1 \n",
    "        \n",
    "    def __call__(self, x):\n",
    "        self.last_o = 1 / (1.0 + np.exp(-x))\n",
    "        return self.last_o\n",
    "    \n",
    "    def grad(self): # sigmoid(x)(1-sigmoid(x))\n",
    "        return self.last_o*(1-self.last_o)"
   ]
  },
  {
   "cell_type": "markdown",
   "metadata": {},
   "source": [
    "##### Mean Squared Error "
   ]
  },
  {
   "cell_type": "code",
   "execution_count": 13,
   "metadata": {},
   "outputs": [],
   "source": [
    "class MeanSquaredError:\n",
    "    def __init__(self):\n",
    "        # gradiant(기울기,미분값) 저장\n",
    "        self.dh = 1\n",
    "        self.last_diff = 1\n",
    "        \n",
    "    def __call__(self, h, y): # 1/2 * mean((h - y)^2)\n",
    "        self.last_diff = h - y\n",
    "        return 1 / 2 *np.mean(np.square(h-y))\n",
    "    def grad(self): # h - y\n",
    "        return self.last_diff"
   ]
  },
  {
   "cell_type": "markdown",
   "metadata": {},
   "source": [
    "#####  Neuron"
   ]
  },
  {
   "cell_type": "code",
   "execution_count": 32,
   "metadata": {},
   "outputs": [],
   "source": [
    "class Neuron:\n",
    "    def __init__(self, W, b, a_obj):\n",
    "            # model parameters\n",
    "            self.W = W\n",
    "            self.b = b\n",
    "            self.a = a_obj()\n",
    "            \n",
    "            # gradient\n",
    "            self.dW = np.zeros_like(self.W)\n",
    "            self.db = np.zeros_like(self.b)\n",
    "            self.dh = np.zeros_like(_t(self.W)) # 이전 입력으로 인한 gradient\n",
    "            \n",
    "            self.last_x = np.zeros((self.W.shape[0]))\n",
    "            self.last_h = np.zeros((self.W.shape[1]))\n",
    "    \n",
    "    def __call__(self, x):\n",
    "        self.last_x = x\n",
    "        self.last_h = _m(_t(self.W), x) + self.b\n",
    "        return self.a(self.last_h)\n",
    "    \n",
    "    # y = Wx + b \n",
    "    def grad(self): # x로 미분 -> dy/dh = W\n",
    "        return self.W * self.a.grad() # chain rule에 의해 activation gradient는 항상 곱해짐\n",
    "\n",
    "    def grad_W(self, dh): # W로 미분 \n",
    "        grad = np.ones_like(self.W)\n",
    "        grad_a = self.a.grad() \n",
    "        for j in range(grad.shape[1]): # W가 아니라 출력 하나하나를 기준으로 함\n",
    "            # y = w^Tx + b 를 미분\n",
    "            # dy/dw = x\n",
    "            grad[:,j] = dh[j] * grad_a[j] * self.last_x\n",
    "            return grad\n",
    "    \n",
    "    def grad_b(self, dh): # b로 미분 -> dy/dh = 1 \n",
    "        # dh : 현재까지 넘어온 gradient\n",
    "        return dh * self.a.grad() * 1"
   ]
  },
  {
   "cell_type": "markdown",
   "metadata": {},
   "source": [
    "##### Deep Neural Network"
   ]
  },
  {
   "cell_type": "code",
   "execution_count": 36,
   "metadata": {},
   "outputs": [],
   "source": [
    "class DNN:\n",
    "    def __init__(self, hidden_depth, num_neuron, num_input, num_output, activation=Sigmoid):\n",
    "        def init_var(i, o):\n",
    "            return np.random.normal(0.0, 0.01, (i,o)), np.zeros((o,))\n",
    "        self.sequence = list()\n",
    "        #First Hidden Layer\n",
    "        W, b = init_var(num_input, num_neuron)\n",
    "        self.sequence.append(Neuron(W, b, activation))\n",
    "        \n",
    "        #Hidden Layers\n",
    "        for index in range(hidden_depth):\n",
    "            W, b = init_var(num_neuron, num_neuron)\n",
    "            self.sequence.append(Neuron(W, b, activation))\n",
    "            \n",
    "        # Output Layer\n",
    "        W, b = init_var(num_neuron, num_output)\n",
    "        self.sequence.append(Neuron(W, b, activation))\n",
    "        \n",
    "    def __call__(self, x):\n",
    "        for layer in self.sequence:\n",
    "            x = layer(x)\n",
    "        return x\n",
    "    def calc_gradient(self, loss_obj):\n",
    "        loss_obj.dh = loss_obj.grad()\n",
    "        self.sequence.append(loss_obj)\n",
    "\n",
    "        # back-prop loop\n",
    "        for i in range(len(self.sequence) - 1, 0, -1): # 마지막 레이어부터 back-prop 함\n",
    "            l1 = self.sequence[i]\n",
    "            l0 = self.sequence[i - 1]\n",
    "\n",
    "            l0.dh = _m(l0.grad(), l1.dh)\n",
    "            l0.dw = l0.grad_W(l1.dh)\n",
    "            l0.db = l0.grad_b(l1.dh)\n",
    "\n",
    "        self.sequence.remove(loss_obj)\n",
    "            "
   ]
  },
  {
   "cell_type": "markdown",
   "metadata": {},
   "source": [
    "##### Gradient Descent"
   ]
  },
  {
   "cell_type": "code",
   "execution_count": 37,
   "metadata": {},
   "outputs": [],
   "source": [
    "def gradient_descent(network, x, y, loss_obj, alpha=0.01):\n",
    "    loss = loss_obj(network(x), y) # Forward inference\n",
    "    network.calc_gradient(loss_obj) # Back-propagation\n",
    "    for layer in network.sequence:\n",
    "        layer.W += -alpha * layer.dW\n",
    "        layer.b += -alpha * layer.db\n",
    "    return loss"
   ]
  },
  {
   "cell_type": "markdown",
   "metadata": {},
   "source": [
    "##### Test"
   ]
  },
  {
   "cell_type": "code",
   "execution_count": 38,
   "metadata": {},
   "outputs": [
    {
     "name": "stdout",
     "output_type": "stream",
     "text": [
      "Epoch 0: Test loss 0.003200862554230688\n",
      "Epoch 1: Test loss 0.0031968631465908795\n",
      "Epoch 2: Test loss 0.0031928687555775764\n",
      "Epoch 3: Test loss 0.003188879375120474\n",
      "Epoch 4: Test loss 0.0031848949991555163\n",
      "Epoch 5: Test loss 0.0031809156216249415\n",
      "Epoch 6: Test loss 0.0031769412364772358\n",
      "Epoch 7: Test loss 0.0031729718376671476\n",
      "Epoch 8: Test loss 0.003169007419155678\n",
      "Epoch 9: Test loss 0.0031650479749101004\n",
      "Epoch 10: Test loss 0.0031610934989039228\n",
      "Epoch 11: Test loss 0.003157143985116907\n",
      "Epoch 12: Test loss 0.0031531994275350718\n",
      "Epoch 13: Test loss 0.0031492598201506854\n",
      "Epoch 14: Test loss 0.003145325156962229\n",
      "Epoch 15: Test loss 0.003141395431974452\n",
      "Epoch 16: Test loss 0.0031374706391983235\n",
      "Epoch 17: Test loss 0.003133550772651051\n",
      "Epoch 18: Test loss 0.0031296358263560816\n",
      "Epoch 19: Test loss 0.003125725794343087\n",
      "Epoch 20: Test loss 0.003121820670647937\n",
      "Epoch 21: Test loss 0.0031179204493127764\n",
      "Epoch 22: Test loss 0.003114025124385923\n",
      "Epoch 23: Test loss 0.0031101346899219265\n",
      "Epoch 24: Test loss 0.003106249139981556\n",
      "Epoch 25: Test loss 0.0031023684686317977\n",
      "Epoch 26: Test loss 0.003098492669945822\n",
      "Epoch 27: Test loss 0.00309462173800303\n",
      "Epoch 28: Test loss 0.0030907556668890155\n",
      "Epoch 29: Test loss 0.0030868944506955522\n",
      "Epoch 30: Test loss 0.003083038083520653\n",
      "Epoch 31: Test loss 0.003079186559468487\n",
      "Epoch 32: Test loss 0.003075339872649423\n",
      "Epoch 33: Test loss 0.003071498017180032\n",
      "Epoch 34: Test loss 0.0030676609871830574\n",
      "Epoch 35: Test loss 0.003063828776787421\n",
      "Epoch 36: Test loss 0.0030600013801282346\n",
      "Epoch 37: Test loss 0.0030561787913467742\n",
      "Epoch 38: Test loss 0.003052361004590499\n",
      "Epoch 39: Test loss 0.0030485480140130263\n",
      "Epoch 40: Test loss 0.0030447398137741642\n",
      "Epoch 41: Test loss 0.0030409363980398473\n",
      "Epoch 42: Test loss 0.003037137760982196\n",
      "Epoch 43: Test loss 0.003033343896779497\n",
      "Epoch 44: Test loss 0.003029554799616155\n",
      "Epoch 45: Test loss 0.0030257704636827637\n",
      "Epoch 46: Test loss 0.0030219908831760505\n",
      "Epoch 47: Test loss 0.0030182160522988707\n",
      "Epoch 48: Test loss 0.0030144459652602616\n",
      "Epoch 49: Test loss 0.0030106806162753636\n",
      "Epoch 50: Test loss 0.0030069199995654593\n",
      "Epoch 51: Test loss 0.003003164109357977\n",
      "Epoch 52: Test loss 0.002999412939886467\n",
      "Epoch 53: Test loss 0.0029956664853906076\n",
      "Epoch 54: Test loss 0.0029919247401161914\n",
      "Epoch 55: Test loss 0.0029881876983151407\n",
      "Epoch 56: Test loss 0.0029844553542454993\n",
      "Epoch 57: Test loss 0.0029807277021714072\n",
      "Epoch 58: Test loss 0.002977004736363118\n",
      "Epoch 59: Test loss 0.0029732864510970134\n",
      "Epoch 60: Test loss 0.002969572840655562\n",
      "Epoch 61: Test loss 0.0029658638993273192\n",
      "Epoch 62: Test loss 0.002962159621406961\n",
      "Epoch 63: Test loss 0.002958460001195254\n",
      "Epoch 64: Test loss 0.002954765032999046\n",
      "Epoch 65: Test loss 0.0029510747111312794\n",
      "Epoch 66: Test loss 0.0029473890299109738\n",
      "Epoch 67: Test loss 0.002943707983663226\n",
      "Epoch 68: Test loss 0.002940031566719236\n",
      "Epoch 69: Test loss 0.0029363597734162437\n",
      "Epoch 70: Test loss 0.002932692598097571\n",
      "Epoch 71: Test loss 0.0029290300351126263\n",
      "Epoch 72: Test loss 0.002925372078816863\n",
      "Epoch 73: Test loss 0.002921718723571786\n",
      "Epoch 74: Test loss 0.0029180699637449776\n",
      "Epoch 75: Test loss 0.002914425793710071\n",
      "Epoch 76: Test loss 0.002910786207846741\n",
      "Epoch 77: Test loss 0.002907151200540707\n",
      "Epoch 78: Test loss 0.002903520766183753\n",
      "Epoch 79: Test loss 0.0028998948991736636\n",
      "Epoch 80: Test loss 0.0028962735939143053\n",
      "Epoch 81: Test loss 0.0028926568448155525\n",
      "Epoch 82: Test loss 0.0028890446462933126\n",
      "Epoch 83: Test loss 0.002885436992769514\n",
      "Epoch 84: Test loss 0.0028818338786721224\n",
      "Epoch 85: Test loss 0.002878235298435103\n",
      "Epoch 86: Test loss 0.0028746412464984595\n",
      "Epoch 87: Test loss 0.0028710517173081893\n",
      "Epoch 88: Test loss 0.0028674667053163135\n",
      "Epoch 89: Test loss 0.0028638862049808465\n",
      "Epoch 90: Test loss 0.002860310210765802\n",
      "Epoch 91: Test loss 0.0028567387171412064\n",
      "Epoch 92: Test loss 0.0028531717185830766\n",
      "Epoch 93: Test loss 0.0028496092095733993\n",
      "Epoch 94: Test loss 0.002846051184600178\n",
      "Epoch 95: Test loss 0.0028424976381573883\n",
      "Epoch 96: Test loss 0.002838948564744978\n",
      "Epoch 97: Test loss 0.002835403958868888\n",
      "Epoch 98: Test loss 0.0028318638150410125\n",
      "Epoch 99: Test loss 0.00282832812777924\n",
      "0.05520510673522949 seconds elapsed.\n"
     ]
    }
   ],
   "source": [
    "x = np.random.normal(0.0, 1.0, (10,))\n",
    "y = np.random.normal(0.0, 1.0, (2,))\n",
    "\n",
    "t = time.time()\n",
    "dnn = DNN(hidden_depth=5, num_neuron=32, num_input=10, num_output=2, activation=Sigmoid)\n",
    "loss_obj = MeanSquaredError()\n",
    "for epoch in range(100):\n",
    "    loss = gradient_descent(dnn, x, y, loss_obj, alpha=0.01)\n",
    "    print(\"Epoch {}: Test loss {}\".format(epoch, loss))\n",
    "print(\"{} seconds elapsed.\".format(time.time() - t))"
   ]
  }
 ],
 "metadata": {
  "kernelspec": {
   "display_name": "Python 3",
   "language": "python",
   "name": "python3"
  },
  "language_info": {
   "codemirror_mode": {
    "name": "ipython",
    "version": 3
   },
   "file_extension": ".py",
   "mimetype": "text/x-python",
   "name": "python",
   "nbconvert_exporter": "python",
   "pygments_lexer": "ipython3",
   "version": "3.8.5"
  }
 },
 "nbformat": 4,
 "nbformat_minor": 4
}
